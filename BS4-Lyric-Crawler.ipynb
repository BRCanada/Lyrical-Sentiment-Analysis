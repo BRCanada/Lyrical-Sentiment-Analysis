{
 "cells": [
  {
   "cell_type": "markdown",
   "id": "1be4b341-8133-4443-b1a4-bf820901d32a",
   "metadata": {},
   "source": [
    "# Beautiful Soup Lyric Retrieval\n",
    "## GOAL:\n",
    "#### Retrieve lyrics from the links populated in the 'lyricurl' column of song_data.csv"
   ]
  },
  {
   "cell_type": "code",
   "execution_count": 1,
   "id": "ac3a2e10-8e77-4aab-83df-f6acf908b5b9",
   "metadata": {},
   "outputs": [],
   "source": [
    "# Import Libraries\n",
    "import pandas as pd\n",
    "from bs4 import BeautifulSoup as soup\n",
    "from urllib.request import Request, urlopen\n",
    "import os\n",
    "import re"
   ]
  },
  {
   "cell_type": "code",
   "execution_count": 2,
   "id": "f479e06f-a347-4403-b14e-a1fcc8a94bfd",
   "metadata": {},
   "outputs": [],
   "source": [
    "data = pd.read_csv('data/song_data.csv', index_col=0)"
   ]
  },
  {
   "cell_type": "code",
   "execution_count": 3,
   "id": "0f430c6d-8229-40ec-a43b-37ee97b00d0e",
   "metadata": {},
   "outputs": [
    {
     "data": {
      "text/html": [
       "<div>\n",
       "<style scoped>\n",
       "    .dataframe tbody tr th:only-of-type {\n",
       "        vertical-align: middle;\n",
       "    }\n",
       "\n",
       "    .dataframe tbody tr th {\n",
       "        vertical-align: top;\n",
       "    }\n",
       "\n",
       "    .dataframe thead th {\n",
       "        text-align: right;\n",
       "    }\n",
       "</style>\n",
       "<table border=\"1\" class=\"dataframe\">\n",
       "  <thead>\n",
       "    <tr style=\"text-align: right;\">\n",
       "      <th></th>\n",
       "      <th>Artist</th>\n",
       "      <th>Song</th>\n",
       "      <th>SongID</th>\n",
       "      <th>Popularity</th>\n",
       "      <th>Lyrics</th>\n",
       "      <th>href</th>\n",
       "      <th>lyricurl</th>\n",
       "    </tr>\n",
       "  </thead>\n",
       "  <tbody>\n",
       "    <tr>\n",
       "      <th>0</th>\n",
       "      <td>Miley Cyrus</td>\n",
       "      <td>Flowers</td>\n",
       "      <td>0yLdNVWF3Srea0uzk55zFn</td>\n",
       "      <td>87</td>\n",
       "      <td>NaN</td>\n",
       "      <td>https://api.spotify.com/v1/tracks/0yLdNVWF3Sre...</td>\n",
       "      <td>https://genius.com/Miley-cyrus-flowers-lyrics</td>\n",
       "    </tr>\n",
       "    <tr>\n",
       "      <th>1</th>\n",
       "      <td>Metro Boomin</td>\n",
       "      <td>Creepin' (with The Weeknd &amp; 21 Savage)</td>\n",
       "      <td>2dHHgzDwk4BJdRwy9uXhTO</td>\n",
       "      <td>97</td>\n",
       "      <td>NaN</td>\n",
       "      <td>https://api.spotify.com/v1/tracks/2dHHgzDwk4BJ...</td>\n",
       "      <td>https://genius.com/Metro-boomin-the-weeknd-and...</td>\n",
       "    </tr>\n",
       "    <tr>\n",
       "      <th>2</th>\n",
       "      <td>SZA</td>\n",
       "      <td>Kill Bill</td>\n",
       "      <td>1Qrg8KqiBpW07V7PNxwwwL</td>\n",
       "      <td>93</td>\n",
       "      <td>NaN</td>\n",
       "      <td>https://api.spotify.com/v1/tracks/1Qrg8KqiBpW0...</td>\n",
       "      <td>https://genius.com/Sza-kill-bill-lyrics</td>\n",
       "    </tr>\n",
       "    <tr>\n",
       "      <th>3</th>\n",
       "      <td>Central Cee</td>\n",
       "      <td>LET GO</td>\n",
       "      <td>3zkyus0njMCL6phZmNNEeN</td>\n",
       "      <td>94</td>\n",
       "      <td>NaN</td>\n",
       "      <td>https://api.spotify.com/v1/tracks/3zkyus0njMCL...</td>\n",
       "      <td>https://genius.com/Central-cee-let-go-lyrics</td>\n",
       "    </tr>\n",
       "    <tr>\n",
       "      <th>4</th>\n",
       "      <td>Tiësto</td>\n",
       "      <td>10:35</td>\n",
       "      <td>6BePGk3eCan4FqaW2X8Qy3</td>\n",
       "      <td>90</td>\n",
       "      <td>NaN</td>\n",
       "      <td>https://api.spotify.com/v1/tracks/6BePGk3eCan4...</td>\n",
       "      <td>https://genius.com/Tiesto-and-tate-mcrae-10-35...</td>\n",
       "    </tr>\n",
       "  </tbody>\n",
       "</table>\n",
       "</div>"
      ],
      "text/plain": [
       "         Artist                                    Song  \\\n",
       "0   Miley Cyrus                                 Flowers   \n",
       "1  Metro Boomin  Creepin' (with The Weeknd & 21 Savage)   \n",
       "2           SZA                               Kill Bill   \n",
       "3   Central Cee                                  LET GO   \n",
       "4        Tiësto                                   10:35   \n",
       "\n",
       "                   SongID  Popularity  Lyrics  \\\n",
       "0  0yLdNVWF3Srea0uzk55zFn          87     NaN   \n",
       "1  2dHHgzDwk4BJdRwy9uXhTO          97     NaN   \n",
       "2  1Qrg8KqiBpW07V7PNxwwwL          93     NaN   \n",
       "3  3zkyus0njMCL6phZmNNEeN          94     NaN   \n",
       "4  6BePGk3eCan4FqaW2X8Qy3          90     NaN   \n",
       "\n",
       "                                                href  \\\n",
       "0  https://api.spotify.com/v1/tracks/0yLdNVWF3Sre...   \n",
       "1  https://api.spotify.com/v1/tracks/2dHHgzDwk4BJ...   \n",
       "2  https://api.spotify.com/v1/tracks/1Qrg8KqiBpW0...   \n",
       "3  https://api.spotify.com/v1/tracks/3zkyus0njMCL...   \n",
       "4  https://api.spotify.com/v1/tracks/6BePGk3eCan4...   \n",
       "\n",
       "                                            lyricurl  \n",
       "0      https://genius.com/Miley-cyrus-flowers-lyrics  \n",
       "1  https://genius.com/Metro-boomin-the-weeknd-and...  \n",
       "2            https://genius.com/Sza-kill-bill-lyrics  \n",
       "3       https://genius.com/Central-cee-let-go-lyrics  \n",
       "4  https://genius.com/Tiesto-and-tate-mcrae-10-35...  "
      ]
     },
     "execution_count": 3,
     "metadata": {},
     "output_type": "execute_result"
    }
   ],
   "source": [
    "data.head()"
   ]
  },
  {
   "cell_type": "code",
   "execution_count": 4,
   "id": "dfae13e1-baec-440a-b75b-d7c04d2dfb8d",
   "metadata": {},
   "outputs": [
    {
     "data": {
      "text/plain": [
       "'https://genius.com/Miley-cyrus-flowers-lyrics'"
      ]
     },
     "execution_count": 4,
     "metadata": {},
     "output_type": "execute_result"
    }
   ],
   "source": [
    "data['lyricurl'][0]"
   ]
  },
  {
   "cell_type": "code",
   "execution_count": 29,
   "id": "8a227c48-18b5-4fbd-90fb-57c125488178",
   "metadata": {},
   "outputs": [],
   "source": [
    "for i in range(len(data)):\n",
    "    url = data.at[i, 'lyricurl']\n",
    "    \n",
    "    req = Request(url, headers={'User-Agent': 'Mozilla/5.0'}) # This will disguise the bs4 object as a browser to avoid a 403 error\n",
    "    \n",
    "    webpage = urlopen(req).read()\n",
    "    \n",
    "    page_soup = soup(webpage, 'html.parser')\n",
    "    \n",
    "    containers = page_soup.find_all(re.compile(\"span$Referent\"))\n",
    "    for container in containers:\n",
    "        print(container)"
   ]
  },
  {
   "cell_type": "markdown",
   "id": "87dc271c-7038-459a-a5c6-1bee4a74a8d7",
   "metadata": {},
   "source": [
    "# **Pending stackoverflow help**"
   ]
  },
  {
   "cell_type": "code",
   "execution_count": null,
   "id": "59e2d8e5-0528-4dbf-ba56-a8d2a5e67a42",
   "metadata": {},
   "outputs": [],
   "source": []
  }
 ],
 "metadata": {
  "kernelspec": {
   "display_name": "Python 3 (ipykernel)",
   "language": "python",
   "name": "python3"
  },
  "language_info": {
   "codemirror_mode": {
    "name": "ipython",
    "version": 3
   },
   "file_extension": ".py",
   "mimetype": "text/x-python",
   "name": "python",
   "nbconvert_exporter": "python",
   "pygments_lexer": "ipython3",
   "version": "3.8.13"
  }
 },
 "nbformat": 4,
 "nbformat_minor": 5
}
