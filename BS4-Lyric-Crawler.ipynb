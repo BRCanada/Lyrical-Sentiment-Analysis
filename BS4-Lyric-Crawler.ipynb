{
 "cells": [
  {
   "cell_type": "markdown",
   "id": "1be4b341-8133-4443-b1a4-bf820901d32a",
   "metadata": {},
   "source": [
    "# Beautiful Soup Lyric Retrieval\n",
    "## GOAL:\n",
    "#### Retrieve lyrics from the links populated in the 'lyricurl' column of song_data.csv"
   ]
  },
  {
   "cell_type": "code",
   "execution_count": 1,
   "id": "ac3a2e10-8e77-4aab-83df-f6acf908b5b9",
   "metadata": {},
   "outputs": [],
   "source": [
    "# Import Libraries\n",
    "import pandas as pd\n",
    "from bs4 import BeautifulSoup as soup\n",
    "from bs4 import NavigableString\n",
    "from urllib.request import Request, urlopen\n",
    "import os\n",
    "import re\n",
    "from tqdm import tqdm"
   ]
  },
  {
   "cell_type": "code",
   "execution_count": 2,
   "id": "f479e06f-a347-4403-b14e-a1fcc8a94bfd",
   "metadata": {},
   "outputs": [],
   "source": [
    "data = pd.read_csv('data/song_data.csv', index_col=0)"
   ]
  },
  {
   "cell_type": "code",
   "execution_count": 3,
   "id": "0f430c6d-8229-40ec-a43b-37ee97b00d0e",
   "metadata": {},
   "outputs": [
    {
     "data": {
      "text/html": [
       "<div>\n",
       "<style scoped>\n",
       "    .dataframe tbody tr th:only-of-type {\n",
       "        vertical-align: middle;\n",
       "    }\n",
       "\n",
       "    .dataframe tbody tr th {\n",
       "        vertical-align: top;\n",
       "    }\n",
       "\n",
       "    .dataframe thead th {\n",
       "        text-align: right;\n",
       "    }\n",
       "</style>\n",
       "<table border=\"1\" class=\"dataframe\">\n",
       "  <thead>\n",
       "    <tr style=\"text-align: right;\">\n",
       "      <th></th>\n",
       "      <th>Artist</th>\n",
       "      <th>Song</th>\n",
       "      <th>SongID</th>\n",
       "      <th>Popularity</th>\n",
       "      <th>Lyrics</th>\n",
       "      <th>href</th>\n",
       "      <th>lyricurl</th>\n",
       "    </tr>\n",
       "  </thead>\n",
       "  <tbody>\n",
       "    <tr>\n",
       "      <th>0</th>\n",
       "      <td>Miley Cyrus</td>\n",
       "      <td>Flowers</td>\n",
       "      <td>0yLdNVWF3Srea0uzk55zFn</td>\n",
       "      <td>87</td>\n",
       "      <td>NaN</td>\n",
       "      <td>https://api.spotify.com/v1/tracks/0yLdNVWF3Sre...</td>\n",
       "      <td>https://genius.com/Miley-cyrus-flowers-lyrics</td>\n",
       "    </tr>\n",
       "    <tr>\n",
       "      <th>1</th>\n",
       "      <td>Metro Boomin</td>\n",
       "      <td>Creepin' (with The Weeknd &amp; 21 Savage)</td>\n",
       "      <td>2dHHgzDwk4BJdRwy9uXhTO</td>\n",
       "      <td>97</td>\n",
       "      <td>NaN</td>\n",
       "      <td>https://api.spotify.com/v1/tracks/2dHHgzDwk4BJ...</td>\n",
       "      <td>https://genius.com/Metro-boomin-the-weeknd-and...</td>\n",
       "    </tr>\n",
       "    <tr>\n",
       "      <th>2</th>\n",
       "      <td>SZA</td>\n",
       "      <td>Kill Bill</td>\n",
       "      <td>1Qrg8KqiBpW07V7PNxwwwL</td>\n",
       "      <td>93</td>\n",
       "      <td>NaN</td>\n",
       "      <td>https://api.spotify.com/v1/tracks/1Qrg8KqiBpW0...</td>\n",
       "      <td>https://genius.com/Sza-kill-bill-lyrics</td>\n",
       "    </tr>\n",
       "    <tr>\n",
       "      <th>3</th>\n",
       "      <td>Central Cee</td>\n",
       "      <td>LET GO</td>\n",
       "      <td>3zkyus0njMCL6phZmNNEeN</td>\n",
       "      <td>94</td>\n",
       "      <td>NaN</td>\n",
       "      <td>https://api.spotify.com/v1/tracks/3zkyus0njMCL...</td>\n",
       "      <td>https://genius.com/Central-cee-let-go-lyrics</td>\n",
       "    </tr>\n",
       "    <tr>\n",
       "      <th>4</th>\n",
       "      <td>Tiësto</td>\n",
       "      <td>10:35</td>\n",
       "      <td>6BePGk3eCan4FqaW2X8Qy3</td>\n",
       "      <td>90</td>\n",
       "      <td>NaN</td>\n",
       "      <td>https://api.spotify.com/v1/tracks/6BePGk3eCan4...</td>\n",
       "      <td>https://genius.com/Tiesto-and-tate-mcrae-10-35...</td>\n",
       "    </tr>\n",
       "    <tr>\n",
       "      <th>5</th>\n",
       "      <td>Preston Pablo</td>\n",
       "      <td>Flowers Need Rain</td>\n",
       "      <td>079mntueS2KWjxVqOHjG70</td>\n",
       "      <td>73</td>\n",
       "      <td>NaN</td>\n",
       "      <td>https://api.spotify.com/v1/tracks/079mntueS2KW...</td>\n",
       "      <td>https://genius.com/Preston-pablo-flowers-need-...</td>\n",
       "    </tr>\n",
       "    <tr>\n",
       "      <th>6</th>\n",
       "      <td>Rema</td>\n",
       "      <td>Calm Down (with Selena Gomez)</td>\n",
       "      <td>0WtM2NBVQNNJLh6scP13H8</td>\n",
       "      <td>95</td>\n",
       "      <td>NaN</td>\n",
       "      <td>https://api.spotify.com/v1/tracks/0WtM2NBVQNNJ...</td>\n",
       "      <td>https://genius.com/Rema-calm-down-lyrics</td>\n",
       "    </tr>\n",
       "    <tr>\n",
       "      <th>7</th>\n",
       "      <td>TALK</td>\n",
       "      <td>Run Away to Mars</td>\n",
       "      <td>6G1Mz5yMgn0ydOlIvTrZ65</td>\n",
       "      <td>77</td>\n",
       "      <td>NaN</td>\n",
       "      <td>https://api.spotify.com/v1/tracks/6G1Mz5yMgn0y...</td>\n",
       "      <td>https://genius.com/Talk-can-run-away-to-mars-l...</td>\n",
       "    </tr>\n",
       "    <tr>\n",
       "      <th>8</th>\n",
       "      <td>Sam Smith</td>\n",
       "      <td>Gimme (feat. Koffee &amp; Jessie Reyez)</td>\n",
       "      <td>2GGN92tO0UbNAYrbMbQ4bf</td>\n",
       "      <td>74</td>\n",
       "      <td>NaN</td>\n",
       "      <td>https://api.spotify.com/v1/tracks/2GGN92tO0UbN...</td>\n",
       "      <td>https://genius.com/Sam-smith-koffee-and-jessie...</td>\n",
       "    </tr>\n",
       "    <tr>\n",
       "      <th>9</th>\n",
       "      <td>Marshmello</td>\n",
       "      <td>Numb</td>\n",
       "      <td>10xV5l9nhLvFpR8mqzs0bL</td>\n",
       "      <td>85</td>\n",
       "      <td>NaN</td>\n",
       "      <td>https://api.spotify.com/v1/tracks/10xV5l9nhLvF...</td>\n",
       "      <td>https://genius.com/Lfl-music-numb-lfl-remix-un...</td>\n",
       "    </tr>\n",
       "  </tbody>\n",
       "</table>\n",
       "</div>"
      ],
      "text/plain": [
       "          Artist                                    Song  \\\n",
       "0    Miley Cyrus                                 Flowers   \n",
       "1   Metro Boomin  Creepin' (with The Weeknd & 21 Savage)   \n",
       "2            SZA                               Kill Bill   \n",
       "3    Central Cee                                  LET GO   \n",
       "4         Tiësto                                   10:35   \n",
       "5  Preston Pablo                       Flowers Need Rain   \n",
       "6           Rema           Calm Down (with Selena Gomez)   \n",
       "7           TALK                        Run Away to Mars   \n",
       "8      Sam Smith     Gimme (feat. Koffee & Jessie Reyez)   \n",
       "9     Marshmello                                    Numb   \n",
       "\n",
       "                   SongID  Popularity  Lyrics  \\\n",
       "0  0yLdNVWF3Srea0uzk55zFn          87     NaN   \n",
       "1  2dHHgzDwk4BJdRwy9uXhTO          97     NaN   \n",
       "2  1Qrg8KqiBpW07V7PNxwwwL          93     NaN   \n",
       "3  3zkyus0njMCL6phZmNNEeN          94     NaN   \n",
       "4  6BePGk3eCan4FqaW2X8Qy3          90     NaN   \n",
       "5  079mntueS2KWjxVqOHjG70          73     NaN   \n",
       "6  0WtM2NBVQNNJLh6scP13H8          95     NaN   \n",
       "7  6G1Mz5yMgn0ydOlIvTrZ65          77     NaN   \n",
       "8  2GGN92tO0UbNAYrbMbQ4bf          74     NaN   \n",
       "9  10xV5l9nhLvFpR8mqzs0bL          85     NaN   \n",
       "\n",
       "                                                href  \\\n",
       "0  https://api.spotify.com/v1/tracks/0yLdNVWF3Sre...   \n",
       "1  https://api.spotify.com/v1/tracks/2dHHgzDwk4BJ...   \n",
       "2  https://api.spotify.com/v1/tracks/1Qrg8KqiBpW0...   \n",
       "3  https://api.spotify.com/v1/tracks/3zkyus0njMCL...   \n",
       "4  https://api.spotify.com/v1/tracks/6BePGk3eCan4...   \n",
       "5  https://api.spotify.com/v1/tracks/079mntueS2KW...   \n",
       "6  https://api.spotify.com/v1/tracks/0WtM2NBVQNNJ...   \n",
       "7  https://api.spotify.com/v1/tracks/6G1Mz5yMgn0y...   \n",
       "8  https://api.spotify.com/v1/tracks/2GGN92tO0UbN...   \n",
       "9  https://api.spotify.com/v1/tracks/10xV5l9nhLvF...   \n",
       "\n",
       "                                            lyricurl  \n",
       "0      https://genius.com/Miley-cyrus-flowers-lyrics  \n",
       "1  https://genius.com/Metro-boomin-the-weeknd-and...  \n",
       "2            https://genius.com/Sza-kill-bill-lyrics  \n",
       "3       https://genius.com/Central-cee-let-go-lyrics  \n",
       "4  https://genius.com/Tiesto-and-tate-mcrae-10-35...  \n",
       "5  https://genius.com/Preston-pablo-flowers-need-...  \n",
       "6           https://genius.com/Rema-calm-down-lyrics  \n",
       "7  https://genius.com/Talk-can-run-away-to-mars-l...  \n",
       "8  https://genius.com/Sam-smith-koffee-and-jessie...  \n",
       "9  https://genius.com/Lfl-music-numb-lfl-remix-un...  "
      ]
     },
     "execution_count": 3,
     "metadata": {},
     "output_type": "execute_result"
    }
   ],
   "source": [
    "data.head(10)"
   ]
  },
  {
   "cell_type": "code",
   "execution_count": 4,
   "id": "dfae13e1-baec-440a-b75b-d7c04d2dfb8d",
   "metadata": {},
   "outputs": [
    {
     "data": {
      "text/plain": [
       "'https://genius.com/Rema-calm-down-lyrics'"
      ]
     },
     "execution_count": 4,
     "metadata": {},
     "output_type": "execute_result"
    }
   ],
   "source": [
    "data['lyricurl'][6]"
   ]
  },
  {
   "cell_type": "code",
   "execution_count": 6,
   "id": "8a227c48-18b5-4fbd-90fb-57c125488178",
   "metadata": {
    "tags": []
   },
   "outputs": [
    {
     "name": "stderr",
     "output_type": "stream",
     "text": [
      "100%|███████████████████████████████████████████| 75/75 [01:47<00:00,  1.43s/it]\n"
     ]
    }
   ],
   "source": [
    "for i in tqdm(range(len(data))):\n",
    "    url = data.at[i, 'lyricurl']\n",
    "\n",
    "    try:\n",
    "        req = Request(url, headers={'User-Agent': 'Mozilla/5.0'}) # This will disguise the bs4 object as a browser to avoid a 403 error\n",
    "\n",
    "        webpage = urlopen(req).read()\n",
    "        \n",
    "    except: \n",
    "        data.at[i, \"Lyrics\"] = \"404 Not Found\"\n",
    "\n",
    "    page_soup = soup(webpage, 'html.parser')\n",
    "\n",
    "    content_list_items = page_soup.find_all('span', class_=\"ReferentFragmentdesktop__Highlight-sc-110r0d9-1 jAzSMw\")\n",
    "    lyric_string = ''\n",
    "\n",
    "    for content_list in content_list_items:\n",
    "        txt = content_list if type(content_list) == NavigableString else content_list.text\n",
    "        lyric_string+=txt\n",
    "\n",
    "    data.at[i, 'Lyrics'] = lyric_string\n"
   ]
  },
  {
   "cell_type": "code",
   "execution_count": 15,
   "id": "f9e8b617-eded-461c-8883-36835c0a02c0",
   "metadata": {},
   "outputs": [],
   "source": [
    "data.to_csv(\"data/song_data.csv\", index=False)"
   ]
  },
  {
   "cell_type": "code",
   "execution_count": null,
   "id": "96584a67-98b5-4a9d-8616-db916531f59c",
   "metadata": {},
   "outputs": [],
   "source": []
  }
 ],
 "metadata": {
  "kernelspec": {
   "display_name": "Python 3 (ipykernel)",
   "language": "python",
   "name": "python3"
  },
  "language_info": {
   "codemirror_mode": {
    "name": "ipython",
    "version": 3
   },
   "file_extension": ".py",
   "mimetype": "text/x-python",
   "name": "python",
   "nbconvert_exporter": "python",
   "pygments_lexer": "ipython3",
   "version": "3.8.13"
  }
 },
 "nbformat": 4,
 "nbformat_minor": 5
}
