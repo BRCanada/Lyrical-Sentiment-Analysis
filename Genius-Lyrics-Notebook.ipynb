{
 "cells": [
  {
   "cell_type": "code",
   "execution_count": 1,
   "id": "f2a81384-dab6-477a-9293-f09076b0efa6",
   "metadata": {},
   "outputs": [],
   "source": [
    "# Import Libraries\n",
    "import requests\n",
    "import pandas as pd\n",
    "from tqdm import tqdm\n",
    "import os\n",
    "import re\n",
    "\n",
    "#----Environment Variables----\n",
    "client_id = os.getenv('GENIUS_CLIENT_ID')\n",
    "client_secret = os.getenv('GENIUS_CLIENT_SECRET')\n",
    "auth_token = os.getenv('GENIUS_TOKEN')\n",
    "#-----------------------------"
   ]
  },
  {
   "cell_type": "code",
   "execution_count": 2,
   "id": "3475438b-c7b9-46b4-8e43-7af388e0cd73",
   "metadata": {},
   "outputs": [],
   "source": [
    "headers = {\n",
    "    'Authorization' : f'Bearer {auth_token}'\n",
    "}"
   ]
  },
  {
   "cell_type": "code",
   "execution_count": 3,
   "id": "0dad34fc-edb8-4f0d-a4bd-c70b727de596",
   "metadata": {},
   "outputs": [],
   "source": [
    "# Import song_data.csv, to create search queries\n",
    "data = pd.read_csv('data/song_data.csv')"
   ]
  },
  {
   "cell_type": "code",
   "execution_count": 4,
   "id": "67cfd8af-a3e2-48f2-a0de-37d511e83ebd",
   "metadata": {},
   "outputs": [],
   "source": [
    "# This cell will be used to clean any datapoints that break the api, I would rather json data to populate than have a try/except\n",
    "data.loc[27, 'Song'] = 'Lift Me Up' "
   ]
  },
  {
   "cell_type": "code",
   "execution_count": 5,
   "id": "d5fb8e1f-7c04-48ae-a396-b351b2dcc036",
   "metadata": {},
   "outputs": [],
   "source": [
    "data['lyricurl'] = str"
   ]
  },
  {
   "cell_type": "code",
   "execution_count": 7,
   "id": "5744a971-0272-4a17-bc71-56e481ec651c",
   "metadata": {
    "tags": []
   },
   "outputs": [
    {
     "name": "stderr",
     "output_type": "stream",
     "text": [
      "100%|███████████████████████████████████████████| 75/75 [02:08<00:00,  1.71s/it]\n"
     ]
    }
   ],
   "source": [
    "for i in tqdm(range(len(data))):\n",
    "    artist = re.sub(r'[^A-Za-z0-9 ]+', '', data.loc[i, 'Artist'])   #regex to remove special characters\n",
    "    song = re.sub(r'[^A-Za-z0-9 ]+', '', data.loc[i, \"Song\"])\n",
    "    query = f\"{artist} {song}\".replace(' ', '%20') #stitch artist and song together, replace spaces to work with url\n",
    "    url = 'http://api.genius.com'    #api url\n",
    "    search = '/search?q='       #api endpoint\n",
    "    uri = url+search+query     #combined url\n",
    "    \n",
    "    req = requests.get(uri, headers=headers)    # Request call\n",
    "    api_path = req.json()['response']['hits'][0]['result']['api_path']  #immediately pull the api path from json\n",
    "    \n",
    "    req = requests.get(url+api_path, headers=headers) # second request call on api endpoint\n",
    "    json = req.json()                                 # convert response to json dictionary\n",
    "    \n",
    "    data.at[i, 'lyricurl'] = json['response']['song']['url']      # assign lyric url to dataframe"
   ]
  },
  {
   "cell_type": "code",
   "execution_count": 8,
   "id": "52759bda-5eaa-443a-a76b-59293acd3dae",
   "metadata": {},
   "outputs": [
    {
     "data": {
      "text/html": [
       "<div>\n",
       "<style scoped>\n",
       "    .dataframe tbody tr th:only-of-type {\n",
       "        vertical-align: middle;\n",
       "    }\n",
       "\n",
       "    .dataframe tbody tr th {\n",
       "        vertical-align: top;\n",
       "    }\n",
       "\n",
       "    .dataframe thead th {\n",
       "        text-align: right;\n",
       "    }\n",
       "</style>\n",
       "<table border=\"1\" class=\"dataframe\">\n",
       "  <thead>\n",
       "    <tr style=\"text-align: right;\">\n",
       "      <th></th>\n",
       "      <th>Artist</th>\n",
       "      <th>Song</th>\n",
       "      <th>SongID</th>\n",
       "      <th>Popularity</th>\n",
       "      <th>Lyrics</th>\n",
       "      <th>href</th>\n",
       "      <th>lyricurl</th>\n",
       "    </tr>\n",
       "  </thead>\n",
       "  <tbody>\n",
       "    <tr>\n",
       "      <th>0</th>\n",
       "      <td>Miley Cyrus</td>\n",
       "      <td>Flowers</td>\n",
       "      <td>0yLdNVWF3Srea0uzk55zFn</td>\n",
       "      <td>87</td>\n",
       "      <td>NaN</td>\n",
       "      <td>https://api.spotify.com/v1/tracks/0yLdNVWF3Sre...</td>\n",
       "      <td>https://genius.com/Miley-cyrus-flowers-lyrics</td>\n",
       "    </tr>\n",
       "    <tr>\n",
       "      <th>1</th>\n",
       "      <td>Metro Boomin</td>\n",
       "      <td>Creepin' (with The Weeknd &amp; 21 Savage)</td>\n",
       "      <td>2dHHgzDwk4BJdRwy9uXhTO</td>\n",
       "      <td>97</td>\n",
       "      <td>NaN</td>\n",
       "      <td>https://api.spotify.com/v1/tracks/2dHHgzDwk4BJ...</td>\n",
       "      <td>https://genius.com/Spotify-new-music-friday-12...</td>\n",
       "    </tr>\n",
       "    <tr>\n",
       "      <th>2</th>\n",
       "      <td>SZA</td>\n",
       "      <td>Kill Bill</td>\n",
       "      <td>1Qrg8KqiBpW07V7PNxwwwL</td>\n",
       "      <td>93</td>\n",
       "      <td>NaN</td>\n",
       "      <td>https://api.spotify.com/v1/tracks/1Qrg8KqiBpW0...</td>\n",
       "      <td>https://genius.com/Sza-kill-bill-lyrics</td>\n",
       "    </tr>\n",
       "    <tr>\n",
       "      <th>3</th>\n",
       "      <td>Central Cee</td>\n",
       "      <td>LET GO</td>\n",
       "      <td>3zkyus0njMCL6phZmNNEeN</td>\n",
       "      <td>94</td>\n",
       "      <td>NaN</td>\n",
       "      <td>https://api.spotify.com/v1/tracks/3zkyus0njMCL...</td>\n",
       "      <td>https://genius.com/Central-cee-let-go-lyrics</td>\n",
       "    </tr>\n",
       "    <tr>\n",
       "      <th>4</th>\n",
       "      <td>Tiësto</td>\n",
       "      <td>10:35</td>\n",
       "      <td>6BePGk3eCan4FqaW2X8Qy3</td>\n",
       "      <td>90</td>\n",
       "      <td>NaN</td>\n",
       "      <td>https://api.spotify.com/v1/tracks/6BePGk3eCan4...</td>\n",
       "      <td>https://genius.com/Tiesto-and-tate-mcrae-10-35...</td>\n",
       "    </tr>\n",
       "  </tbody>\n",
       "</table>\n",
       "</div>"
      ],
      "text/plain": [
       "         Artist                                    Song  \\\n",
       "0   Miley Cyrus                                 Flowers   \n",
       "1  Metro Boomin  Creepin' (with The Weeknd & 21 Savage)   \n",
       "2           SZA                               Kill Bill   \n",
       "3   Central Cee                                  LET GO   \n",
       "4        Tiësto                                   10:35   \n",
       "\n",
       "                   SongID  Popularity  Lyrics  \\\n",
       "0  0yLdNVWF3Srea0uzk55zFn          87     NaN   \n",
       "1  2dHHgzDwk4BJdRwy9uXhTO          97     NaN   \n",
       "2  1Qrg8KqiBpW07V7PNxwwwL          93     NaN   \n",
       "3  3zkyus0njMCL6phZmNNEeN          94     NaN   \n",
       "4  6BePGk3eCan4FqaW2X8Qy3          90     NaN   \n",
       "\n",
       "                                                href  \\\n",
       "0  https://api.spotify.com/v1/tracks/0yLdNVWF3Sre...   \n",
       "1  https://api.spotify.com/v1/tracks/2dHHgzDwk4BJ...   \n",
       "2  https://api.spotify.com/v1/tracks/1Qrg8KqiBpW0...   \n",
       "3  https://api.spotify.com/v1/tracks/3zkyus0njMCL...   \n",
       "4  https://api.spotify.com/v1/tracks/6BePGk3eCan4...   \n",
       "\n",
       "                                            lyricurl  \n",
       "0      https://genius.com/Miley-cyrus-flowers-lyrics  \n",
       "1  https://genius.com/Spotify-new-music-friday-12...  \n",
       "2            https://genius.com/Sza-kill-bill-lyrics  \n",
       "3       https://genius.com/Central-cee-let-go-lyrics  \n",
       "4  https://genius.com/Tiesto-and-tate-mcrae-10-35...  "
      ]
     },
     "execution_count": 8,
     "metadata": {},
     "output_type": "execute_result"
    }
   ],
   "source": [
    "data.head()"
   ]
  },
  {
   "cell_type": "code",
   "execution_count": 12,
   "id": "8cbd8ac6-8da7-41c3-b287-05cda62e9bda",
   "metadata": {},
   "outputs": [],
   "source": [
    "#adjusting spotify url to actual lyric url for Metro Boomin'\n",
    "data.loc[1, 'lyricurl'] = 'https://genius.com/Metro-boomin-the-weeknd-and-21-savage-creepin-lyrics'"
   ]
  },
  {
   "cell_type": "code",
   "execution_count": 13,
   "id": "dde8a0eb-8379-41be-be34-62408471e6d1",
   "metadata": {},
   "outputs": [
    {
     "data": {
      "text/html": [
       "<div>\n",
       "<style scoped>\n",
       "    .dataframe tbody tr th:only-of-type {\n",
       "        vertical-align: middle;\n",
       "    }\n",
       "\n",
       "    .dataframe tbody tr th {\n",
       "        vertical-align: top;\n",
       "    }\n",
       "\n",
       "    .dataframe thead th {\n",
       "        text-align: right;\n",
       "    }\n",
       "</style>\n",
       "<table border=\"1\" class=\"dataframe\">\n",
       "  <thead>\n",
       "    <tr style=\"text-align: right;\">\n",
       "      <th></th>\n",
       "      <th>Artist</th>\n",
       "      <th>Song</th>\n",
       "      <th>SongID</th>\n",
       "      <th>Popularity</th>\n",
       "      <th>Lyrics</th>\n",
       "      <th>href</th>\n",
       "      <th>lyricurl</th>\n",
       "    </tr>\n",
       "  </thead>\n",
       "  <tbody>\n",
       "    <tr>\n",
       "      <th>0</th>\n",
       "      <td>Miley Cyrus</td>\n",
       "      <td>Flowers</td>\n",
       "      <td>0yLdNVWF3Srea0uzk55zFn</td>\n",
       "      <td>87</td>\n",
       "      <td>NaN</td>\n",
       "      <td>https://api.spotify.com/v1/tracks/0yLdNVWF3Sre...</td>\n",
       "      <td>https://genius.com/Miley-cyrus-flowers-lyrics</td>\n",
       "    </tr>\n",
       "    <tr>\n",
       "      <th>1</th>\n",
       "      <td>Metro Boomin</td>\n",
       "      <td>Creepin' (with The Weeknd &amp; 21 Savage)</td>\n",
       "      <td>2dHHgzDwk4BJdRwy9uXhTO</td>\n",
       "      <td>97</td>\n",
       "      <td>NaN</td>\n",
       "      <td>https://api.spotify.com/v1/tracks/2dHHgzDwk4BJ...</td>\n",
       "      <td>https://genius.com/Metro-boomin-the-weeknd-and...</td>\n",
       "    </tr>\n",
       "    <tr>\n",
       "      <th>2</th>\n",
       "      <td>SZA</td>\n",
       "      <td>Kill Bill</td>\n",
       "      <td>1Qrg8KqiBpW07V7PNxwwwL</td>\n",
       "      <td>93</td>\n",
       "      <td>NaN</td>\n",
       "      <td>https://api.spotify.com/v1/tracks/1Qrg8KqiBpW0...</td>\n",
       "      <td>https://genius.com/Sza-kill-bill-lyrics</td>\n",
       "    </tr>\n",
       "    <tr>\n",
       "      <th>3</th>\n",
       "      <td>Central Cee</td>\n",
       "      <td>LET GO</td>\n",
       "      <td>3zkyus0njMCL6phZmNNEeN</td>\n",
       "      <td>94</td>\n",
       "      <td>NaN</td>\n",
       "      <td>https://api.spotify.com/v1/tracks/3zkyus0njMCL...</td>\n",
       "      <td>https://genius.com/Central-cee-let-go-lyrics</td>\n",
       "    </tr>\n",
       "    <tr>\n",
       "      <th>4</th>\n",
       "      <td>Tiësto</td>\n",
       "      <td>10:35</td>\n",
       "      <td>6BePGk3eCan4FqaW2X8Qy3</td>\n",
       "      <td>90</td>\n",
       "      <td>NaN</td>\n",
       "      <td>https://api.spotify.com/v1/tracks/6BePGk3eCan4...</td>\n",
       "      <td>https://genius.com/Tiesto-and-tate-mcrae-10-35...</td>\n",
       "    </tr>\n",
       "  </tbody>\n",
       "</table>\n",
       "</div>"
      ],
      "text/plain": [
       "         Artist                                    Song  \\\n",
       "0   Miley Cyrus                                 Flowers   \n",
       "1  Metro Boomin  Creepin' (with The Weeknd & 21 Savage)   \n",
       "2           SZA                               Kill Bill   \n",
       "3   Central Cee                                  LET GO   \n",
       "4        Tiësto                                   10:35   \n",
       "\n",
       "                   SongID  Popularity  Lyrics  \\\n",
       "0  0yLdNVWF3Srea0uzk55zFn          87     NaN   \n",
       "1  2dHHgzDwk4BJdRwy9uXhTO          97     NaN   \n",
       "2  1Qrg8KqiBpW07V7PNxwwwL          93     NaN   \n",
       "3  3zkyus0njMCL6phZmNNEeN          94     NaN   \n",
       "4  6BePGk3eCan4FqaW2X8Qy3          90     NaN   \n",
       "\n",
       "                                                href  \\\n",
       "0  https://api.spotify.com/v1/tracks/0yLdNVWF3Sre...   \n",
       "1  https://api.spotify.com/v1/tracks/2dHHgzDwk4BJ...   \n",
       "2  https://api.spotify.com/v1/tracks/1Qrg8KqiBpW0...   \n",
       "3  https://api.spotify.com/v1/tracks/3zkyus0njMCL...   \n",
       "4  https://api.spotify.com/v1/tracks/6BePGk3eCan4...   \n",
       "\n",
       "                                            lyricurl  \n",
       "0      https://genius.com/Miley-cyrus-flowers-lyrics  \n",
       "1  https://genius.com/Metro-boomin-the-weeknd-and...  \n",
       "2            https://genius.com/Sza-kill-bill-lyrics  \n",
       "3       https://genius.com/Central-cee-let-go-lyrics  \n",
       "4  https://genius.com/Tiesto-and-tate-mcrae-10-35...  "
      ]
     },
     "execution_count": 13,
     "metadata": {},
     "output_type": "execute_result"
    }
   ],
   "source": [
    "data.head()"
   ]
  },
  {
   "cell_type": "code",
   "execution_count": 14,
   "id": "32042178-c5a3-4689-8ade-93f04b89b353",
   "metadata": {},
   "outputs": [],
   "source": [
    "# Overwrite CSV with new info\n",
    "data.to_csv(\"data/song_data.csv\")"
   ]
  },
  {
   "cell_type": "code",
   "execution_count": null,
   "id": "0567279c-b4aa-4d55-a80d-1a58fad8f297",
   "metadata": {},
   "outputs": [],
   "source": []
  }
 ],
 "metadata": {
  "kernelspec": {
   "display_name": "Python 3 (ipykernel)",
   "language": "python",
   "name": "python3"
  },
  "language_info": {
   "codemirror_mode": {
    "name": "ipython",
    "version": 3
   },
   "file_extension": ".py",
   "mimetype": "text/x-python",
   "name": "python",
   "nbconvert_exporter": "python",
   "pygments_lexer": "ipython3",
   "version": "3.8.13"
  }
 },
 "nbformat": 4,
 "nbformat_minor": 5
}
