{
 "cells": [
  {
   "cell_type": "markdown",
   "id": "e9daab66-1d0a-4a3e-a4fd-3e48feeceb23",
   "metadata": {},
   "source": [
    "# Spotipy Feature Requests"
   ]
  },
  {
   "cell_type": "markdown",
   "id": "9984edbb-aebb-4080-ae33-5d333013c4c1",
   "metadata": {},
   "source": [
    "### Goal: Use SpotipyAPI in tandem with song_data.csv to pull features for EDA"
   ]
  },
  {
   "cell_type": "code",
   "execution_count": 1,
   "id": "035718dd-8137-428f-9986-599ca2c8b0ce",
   "metadata": {},
   "outputs": [],
   "source": [
    "import sys\n",
    "sys.path.append('../')\n",
    "\n",
    "import os\n",
    "\n",
    "from src.SpotipyAPI import *"
   ]
  },
  {
   "cell_type": "code",
   "execution_count": 2,
   "id": "dd1c530a-bf62-4c92-8882-92c8f61261b4",
   "metadata": {},
   "outputs": [],
   "source": [
    "data = pd.read_csv(\"data/song_data.csv\", sep=',')"
   ]
  },
  {
   "cell_type": "code",
   "execution_count": 3,
   "id": "5e86ef40-4c0e-4d0d-adf6-2ca4db203742",
   "metadata": {},
   "outputs": [
    {
     "data": {
      "text/html": [
       "<div>\n",
       "<style scoped>\n",
       "    .dataframe tbody tr th:only-of-type {\n",
       "        vertical-align: middle;\n",
       "    }\n",
       "\n",
       "    .dataframe tbody tr th {\n",
       "        vertical-align: top;\n",
       "    }\n",
       "\n",
       "    .dataframe thead th {\n",
       "        text-align: right;\n",
       "    }\n",
       "</style>\n",
       "<table border=\"1\" class=\"dataframe\">\n",
       "  <thead>\n",
       "    <tr style=\"text-align: right;\">\n",
       "      <th></th>\n",
       "      <th>Artist</th>\n",
       "      <th>Song</th>\n",
       "      <th>SongID</th>\n",
       "      <th>Popularity</th>\n",
       "      <th>Lyrics</th>\n",
       "      <th>href</th>\n",
       "    </tr>\n",
       "  </thead>\n",
       "  <tbody>\n",
       "    <tr>\n",
       "      <th>0</th>\n",
       "      <td>Miley Cyrus</td>\n",
       "      <td>Flowers</td>\n",
       "      <td>0yLdNVWF3Srea0uzk55zFn</td>\n",
       "      <td>87</td>\n",
       "      <td>NaN</td>\n",
       "      <td>https://api.spotify.com/v1/tracks/0yLdNVWF3Sre...</td>\n",
       "    </tr>\n",
       "    <tr>\n",
       "      <th>1</th>\n",
       "      <td>Metro Boomin</td>\n",
       "      <td>Creepin' (with The Weeknd &amp; 21 Savage)</td>\n",
       "      <td>2dHHgzDwk4BJdRwy9uXhTO</td>\n",
       "      <td>97</td>\n",
       "      <td>NaN</td>\n",
       "      <td>https://api.spotify.com/v1/tracks/2dHHgzDwk4BJ...</td>\n",
       "    </tr>\n",
       "    <tr>\n",
       "      <th>2</th>\n",
       "      <td>SZA</td>\n",
       "      <td>Kill Bill</td>\n",
       "      <td>1Qrg8KqiBpW07V7PNxwwwL</td>\n",
       "      <td>93</td>\n",
       "      <td>NaN</td>\n",
       "      <td>https://api.spotify.com/v1/tracks/1Qrg8KqiBpW0...</td>\n",
       "    </tr>\n",
       "    <tr>\n",
       "      <th>3</th>\n",
       "      <td>Central Cee</td>\n",
       "      <td>LET GO</td>\n",
       "      <td>3zkyus0njMCL6phZmNNEeN</td>\n",
       "      <td>94</td>\n",
       "      <td>NaN</td>\n",
       "      <td>https://api.spotify.com/v1/tracks/3zkyus0njMCL...</td>\n",
       "    </tr>\n",
       "    <tr>\n",
       "      <th>4</th>\n",
       "      <td>Tiësto</td>\n",
       "      <td>10:35</td>\n",
       "      <td>6BePGk3eCan4FqaW2X8Qy3</td>\n",
       "      <td>90</td>\n",
       "      <td>NaN</td>\n",
       "      <td>https://api.spotify.com/v1/tracks/6BePGk3eCan4...</td>\n",
       "    </tr>\n",
       "  </tbody>\n",
       "</table>\n",
       "</div>"
      ],
      "text/plain": [
       "         Artist                                    Song  \\\n",
       "0   Miley Cyrus                                 Flowers   \n",
       "1  Metro Boomin  Creepin' (with The Weeknd & 21 Savage)   \n",
       "2           SZA                               Kill Bill   \n",
       "3   Central Cee                                  LET GO   \n",
       "4        Tiësto                                   10:35   \n",
       "\n",
       "                   SongID  Popularity  Lyrics  \\\n",
       "0  0yLdNVWF3Srea0uzk55zFn          87     NaN   \n",
       "1  2dHHgzDwk4BJdRwy9uXhTO          97     NaN   \n",
       "2  1Qrg8KqiBpW07V7PNxwwwL          93     NaN   \n",
       "3  3zkyus0njMCL6phZmNNEeN          94     NaN   \n",
       "4  6BePGk3eCan4FqaW2X8Qy3          90     NaN   \n",
       "\n",
       "                                                href  \n",
       "0  https://api.spotify.com/v1/tracks/0yLdNVWF3Sre...  \n",
       "1  https://api.spotify.com/v1/tracks/2dHHgzDwk4BJ...  \n",
       "2  https://api.spotify.com/v1/tracks/1Qrg8KqiBpW0...  \n",
       "3  https://api.spotify.com/v1/tracks/3zkyus0njMCL...  \n",
       "4  https://api.spotify.com/v1/tracks/6BePGk3eCan4...  "
      ]
     },
     "execution_count": 3,
     "metadata": {},
     "output_type": "execute_result"
    }
   ],
   "source": [
    "data.head()"
   ]
  },
  {
   "cell_type": "code",
   "execution_count": 4,
   "id": "7df7dd7b-b8ae-42ac-a73d-189cf65156f1",
   "metadata": {},
   "outputs": [],
   "source": [
    "# Grab Spotify dev keys from environment variables\n",
    "client_id = os.getenv('SPOTIFY_CLIENT_ID')\n",
    "client_secret = os.getenv('SPOTIFY_CLIENT_SECRET')"
   ]
  },
  {
   "cell_type": "code",
   "execution_count": 5,
   "id": "019658a7-8278-4831-badb-f2d526095e77",
   "metadata": {},
   "outputs": [],
   "source": [
    "# Initialize Class\n",
    "spotipy = SpotifyAPI(client_id, client_secret)"
   ]
  },
  {
   "cell_type": "code",
   "execution_count": 15,
   "id": "b1b49d68-47f0-42c7-8b10-98dbd2683b3d",
   "metadata": {},
   "outputs": [],
   "source": [
    "def feature_get(df):\n",
    "    URI = 'https://api.spotify.com/v1'\n",
    "    \n",
    "    access_token = spotipy.access_token\n",
    "    \n",
    "    # Create new columns for dataframe\n",
    "    df['acousticness'] = float\n",
    "    df['danceability'] = float\n",
    "    df['energy'] = float\n",
    "    df['instrumentalness'] = float\n",
    "    df['key'] = int\n",
    "    df['liveness'] = float\n",
    "    df['loudness'] = float\n",
    "    df['mode'] = float\n",
    "    df['speechiness'] = float\n",
    "    df['tempo'] = float\n",
    "    df['valence'] = float\n",
    "    \n",
    "    # Loop to add data for each track to new columns\n",
    "    for i in tqdm(range(len(df))):\n",
    "        \n",
    "        if spotipy.access_token_has_expired:\n",
    "            spotipy.get_auth()\n",
    "            access_token = spotipy.access_token\n",
    "        \n",
    "        # Assign token to request header\n",
    "        headers = {\n",
    "            \"Authorization\": f\"Bearer {access_token}\"\n",
    "        }\n",
    "        \n",
    "        song_id = df.loc[i, 'SongID'] #isolate Song IDs based on row iteration\n",
    "        \n",
    "        feature_string = f'/audio-features/{song_id}' # Append Song ID to endpoint\n",
    "\n",
    "        temp_url = URI+feature_string # Combine temporary endpoint with URL\n",
    "        \n",
    "        req = requests.get(temp_url, headers=headers)\n",
    "        print(\"Status Code: \", req.status_code)\n",
    "        \n",
    "        json = req.json()\n",
    "        \n",
    "        df.at[i, 'acousticness'] = json['acousticness']\n",
    "        df.at[i, 'danceability'] = json['danceability']\n",
    "        df.at[i, 'energy'] = json['energy']\n",
    "        df.at[i, 'instrumentalness'] = json['instrumentalness']\n",
    "        df.at[i, 'key'] = json['key']\n",
    "        df.at[i, 'liveness'] = json['liveness']\n",
    "        df.at[i, 'loudness'] = json['loudness'] \n",
    "        df.at[i, 'mode'] = json['mode']\n",
    "        df.at[i, 'speechiness'] = json['speechiness']\n",
    "        df.at[i, 'tempo'] = json['tempo']\n",
    "        df.at[i, 'valence'] = json['valence']\n",
    "        \n",
    "    return df"
   ]
  },
  {
   "cell_type": "code",
   "execution_count": 16,
   "id": "c121d573-ea7b-4179-a6bc-ba7b09ceffd8",
   "metadata": {},
   "outputs": [
    {
     "name": "stderr",
     "output_type": "stream",
     "text": [
      "  3%|█▏                                          | 2/75 [00:00<00:21,  3.35it/s]"
     ]
    },
    {
     "name": "stdout",
     "output_type": "stream",
     "text": [
      "Status Code:  200\n",
      "Status Code:  200\n"
     ]
    },
    {
     "name": "stderr",
     "output_type": "stream",
     "text": [
      "  5%|██▎                                         | 4/75 [00:01<00:16,  4.43it/s]"
     ]
    },
    {
     "name": "stdout",
     "output_type": "stream",
     "text": [
      "Status Code:  200\n",
      "Status Code:  200\n"
     ]
    },
    {
     "name": "stderr",
     "output_type": "stream",
     "text": [
      "  8%|███▌                                        | 6/75 [00:01<00:13,  4.99it/s]"
     ]
    },
    {
     "name": "stdout",
     "output_type": "stream",
     "text": [
      "Status Code:  200\n",
      "Status Code:  200\n"
     ]
    },
    {
     "name": "stderr",
     "output_type": "stream",
     "text": [
      " 11%|████▋                                       | 8/75 [00:01<00:12,  5.26it/s]"
     ]
    },
    {
     "name": "stdout",
     "output_type": "stream",
     "text": [
      "Status Code:  200\n",
      "Status Code:  200\n"
     ]
    },
    {
     "name": "stderr",
     "output_type": "stream",
     "text": [
      " 13%|█████▋                                     | 10/75 [00:02<00:11,  5.46it/s]"
     ]
    },
    {
     "name": "stdout",
     "output_type": "stream",
     "text": [
      "Status Code:  200\n",
      "Status Code:  200\n"
     ]
    },
    {
     "name": "stderr",
     "output_type": "stream",
     "text": [
      " 16%|██████▉                                    | 12/75 [00:02<00:11,  5.26it/s]"
     ]
    },
    {
     "name": "stdout",
     "output_type": "stream",
     "text": [
      "Status Code:  200\n",
      "Status Code:  200\n"
     ]
    },
    {
     "name": "stderr",
     "output_type": "stream",
     "text": [
      " 19%|████████                                   | 14/75 [00:02<00:11,  5.40it/s]"
     ]
    },
    {
     "name": "stdout",
     "output_type": "stream",
     "text": [
      "Status Code:  200\n",
      "Status Code:  200\n"
     ]
    },
    {
     "name": "stderr",
     "output_type": "stream",
     "text": [
      " 21%|█████████▏                                 | 16/75 [00:03<00:10,  5.45it/s]"
     ]
    },
    {
     "name": "stdout",
     "output_type": "stream",
     "text": [
      "Status Code:  200\n",
      "Status Code:  200\n"
     ]
    },
    {
     "name": "stderr",
     "output_type": "stream",
     "text": [
      " 24%|██████████▎                                | 18/75 [00:03<00:09,  5.72it/s]"
     ]
    },
    {
     "name": "stdout",
     "output_type": "stream",
     "text": [
      "Status Code:  200\n",
      "Status Code:  200\n"
     ]
    },
    {
     "name": "stderr",
     "output_type": "stream",
     "text": [
      " 27%|███████████▍                               | 20/75 [00:03<00:09,  5.84it/s]"
     ]
    },
    {
     "name": "stdout",
     "output_type": "stream",
     "text": [
      "Status Code:  200\n",
      "Status Code:  200\n"
     ]
    },
    {
     "name": "stderr",
     "output_type": "stream",
     "text": [
      " 29%|████████████▌                              | 22/75 [00:04<00:08,  6.16it/s]"
     ]
    },
    {
     "name": "stdout",
     "output_type": "stream",
     "text": [
      "Status Code:  200\n",
      "Status Code:  200\n"
     ]
    },
    {
     "name": "stderr",
     "output_type": "stream",
     "text": [
      " 32%|█████████████▊                             | 24/75 [00:04<00:08,  6.14it/s]"
     ]
    },
    {
     "name": "stdout",
     "output_type": "stream",
     "text": [
      "Status Code:  200\n",
      "Status Code:  200\n"
     ]
    },
    {
     "name": "stderr",
     "output_type": "stream",
     "text": [
      " 35%|██████████████▉                            | 26/75 [00:04<00:08,  5.57it/s]"
     ]
    },
    {
     "name": "stdout",
     "output_type": "stream",
     "text": [
      "Status Code:  200\n",
      "Status Code:  200\n"
     ]
    },
    {
     "name": "stderr",
     "output_type": "stream",
     "text": [
      " 37%|████████████████                           | 28/75 [00:05<00:08,  5.52it/s]"
     ]
    },
    {
     "name": "stdout",
     "output_type": "stream",
     "text": [
      "Status Code:  200\n",
      "Status Code:  200\n"
     ]
    },
    {
     "name": "stderr",
     "output_type": "stream",
     "text": [
      " 39%|████████████████▋                          | 29/75 [00:05<00:08,  5.65it/s]"
     ]
    },
    {
     "name": "stdout",
     "output_type": "stream",
     "text": [
      "Status Code:  200\n"
     ]
    },
    {
     "name": "stderr",
     "output_type": "stream",
     "text": [
      " 40%|█████████████████▏                         | 30/75 [00:05<00:08,  5.29it/s]"
     ]
    },
    {
     "name": "stdout",
     "output_type": "stream",
     "text": [
      "Status Code:  200\n"
     ]
    },
    {
     "name": "stderr",
     "output_type": "stream",
     "text": [
      " 43%|██████████████████▎                        | 32/75 [00:06<00:08,  5.34it/s]"
     ]
    },
    {
     "name": "stdout",
     "output_type": "stream",
     "text": [
      "Status Code:  200\n",
      "Status Code:  200\n"
     ]
    },
    {
     "name": "stderr",
     "output_type": "stream",
     "text": [
      " 45%|███████████████████▍                       | 34/75 [00:06<00:07,  5.27it/s]"
     ]
    },
    {
     "name": "stdout",
     "output_type": "stream",
     "text": [
      "Status Code:  200\n",
      "Status Code:  200\n"
     ]
    },
    {
     "name": "stderr",
     "output_type": "stream",
     "text": [
      " 47%|████████████████████                       | 35/75 [00:06<00:07,  5.33it/s]"
     ]
    },
    {
     "name": "stdout",
     "output_type": "stream",
     "text": [
      "Status Code:  200\n"
     ]
    },
    {
     "name": "stderr",
     "output_type": "stream",
     "text": [
      " 49%|█████████████████████▏                     | 37/75 [00:07<00:07,  4.89it/s]"
     ]
    },
    {
     "name": "stdout",
     "output_type": "stream",
     "text": [
      "Status Code:  200\n",
      "Status Code:  200\n"
     ]
    },
    {
     "name": "stderr",
     "output_type": "stream",
     "text": [
      " 51%|█████████████████████▊                     | 38/75 [00:07<00:07,  4.81it/s]"
     ]
    },
    {
     "name": "stdout",
     "output_type": "stream",
     "text": [
      "Status Code:  200\n",
      "Status Code:  200\n"
     ]
    },
    {
     "name": "stderr",
     "output_type": "stream",
     "text": [
      " 53%|██████████████████████▉                    | 40/75 [00:07<00:06,  5.05it/s]"
     ]
    },
    {
     "name": "stdout",
     "output_type": "stream",
     "text": [
      "Status Code:  200\n"
     ]
    },
    {
     "name": "stderr",
     "output_type": "stream",
     "text": [
      " 55%|███████████████████████▌                   | 41/75 [00:07<00:06,  4.91it/s]"
     ]
    },
    {
     "name": "stdout",
     "output_type": "stream",
     "text": [
      "Status Code:  200\n"
     ]
    },
    {
     "name": "stderr",
     "output_type": "stream",
     "text": [
      " 56%|████████████████████████                   | 42/75 [00:08<00:07,  4.68it/s]"
     ]
    },
    {
     "name": "stdout",
     "output_type": "stream",
     "text": [
      "Status Code:  200\n"
     ]
    },
    {
     "name": "stderr",
     "output_type": "stream",
     "text": [
      " 57%|████████████████████████▋                  | 43/75 [00:08<00:06,  4.69it/s]"
     ]
    },
    {
     "name": "stdout",
     "output_type": "stream",
     "text": [
      "Status Code:  200\n"
     ]
    },
    {
     "name": "stderr",
     "output_type": "stream",
     "text": [
      " 60%|█████████████████████████▊                 | 45/75 [00:08<00:06,  4.93it/s]"
     ]
    },
    {
     "name": "stdout",
     "output_type": "stream",
     "text": [
      "Status Code:  200\n",
      "Status Code:  200\n"
     ]
    },
    {
     "name": "stderr",
     "output_type": "stream",
     "text": [
      " 61%|██████████████████████████▎                | 46/75 [00:08<00:05,  4.84it/s]"
     ]
    },
    {
     "name": "stdout",
     "output_type": "stream",
     "text": [
      "Status Code:  200\n"
     ]
    },
    {
     "name": "stderr",
     "output_type": "stream",
     "text": [
      " 63%|██████████████████████████▉                | 47/75 [00:09<00:06,  4.60it/s]"
     ]
    },
    {
     "name": "stdout",
     "output_type": "stream",
     "text": [
      "Status Code:  200\n"
     ]
    },
    {
     "name": "stderr",
     "output_type": "stream",
     "text": [
      " 65%|████████████████████████████               | 49/75 [00:09<00:05,  4.89it/s]"
     ]
    },
    {
     "name": "stdout",
     "output_type": "stream",
     "text": [
      "Status Code:  200\n",
      "Status Code:  200\n"
     ]
    },
    {
     "name": "stderr",
     "output_type": "stream",
     "text": [
      " 68%|█████████████████████████████▏             | 51/75 [00:09<00:04,  5.11it/s]"
     ]
    },
    {
     "name": "stdout",
     "output_type": "stream",
     "text": [
      "Status Code:  200\n",
      "Status Code:  200\n"
     ]
    },
    {
     "name": "stderr",
     "output_type": "stream",
     "text": [
      " 69%|█████████████████████████████▊             | 52/75 [00:10<00:04,  5.22it/s]"
     ]
    },
    {
     "name": "stdout",
     "output_type": "stream",
     "text": [
      "Status Code:  200\n"
     ]
    },
    {
     "name": "stderr",
     "output_type": "stream",
     "text": [
      " 72%|██████████████████████████████▉            | 54/75 [00:10<00:04,  5.02it/s]"
     ]
    },
    {
     "name": "stdout",
     "output_type": "stream",
     "text": [
      "Status Code:  200\n",
      "Status Code:  200\n"
     ]
    },
    {
     "name": "stderr",
     "output_type": "stream",
     "text": [
      " 75%|████████████████████████████████           | 56/75 [00:10<00:03,  5.22it/s]"
     ]
    },
    {
     "name": "stdout",
     "output_type": "stream",
     "text": [
      "Status Code:  200\n",
      "Status Code:  200\n"
     ]
    },
    {
     "name": "stderr",
     "output_type": "stream",
     "text": [
      " 77%|█████████████████████████████████▎         | 58/75 [00:11<00:03,  5.35it/s]"
     ]
    },
    {
     "name": "stdout",
     "output_type": "stream",
     "text": [
      "Status Code:  200\n",
      "Status Code:  200\n"
     ]
    },
    {
     "name": "stderr",
     "output_type": "stream",
     "text": [
      " 79%|█████████████████████████████████▊         | 59/75 [00:11<00:02,  5.34it/s]"
     ]
    },
    {
     "name": "stdout",
     "output_type": "stream",
     "text": [
      "Status Code:  200\n"
     ]
    },
    {
     "name": "stderr",
     "output_type": "stream",
     "text": [
      " 81%|██████████████████████████████████▉        | 61/75 [00:11<00:02,  5.32it/s]"
     ]
    },
    {
     "name": "stdout",
     "output_type": "stream",
     "text": [
      "Status Code:  200\n",
      "Status Code:  200\n"
     ]
    },
    {
     "name": "stderr",
     "output_type": "stream",
     "text": [
      " 83%|███████████████████████████████████▌       | 62/75 [00:12<00:02,  5.22it/s]"
     ]
    },
    {
     "name": "stdout",
     "output_type": "stream",
     "text": [
      "Status Code:  200\n"
     ]
    },
    {
     "name": "stderr",
     "output_type": "stream",
     "text": [
      " 85%|████████████████████████████████████▋      | 64/75 [00:12<00:02,  5.17it/s]"
     ]
    },
    {
     "name": "stdout",
     "output_type": "stream",
     "text": [
      "Status Code:  200\n",
      "Status Code:  200\n"
     ]
    },
    {
     "name": "stderr",
     "output_type": "stream",
     "text": [
      " 88%|█████████████████████████████████████▊     | 66/75 [00:12<00:01,  5.48it/s]"
     ]
    },
    {
     "name": "stdout",
     "output_type": "stream",
     "text": [
      "Status Code:  200\n",
      "Status Code:  200\n"
     ]
    },
    {
     "name": "stderr",
     "output_type": "stream",
     "text": [
      " 91%|██████████████████████████████████████▉    | 68/75 [00:13<00:01,  5.55it/s]"
     ]
    },
    {
     "name": "stdout",
     "output_type": "stream",
     "text": [
      "Status Code:  200\n",
      "Status Code:  200\n"
     ]
    },
    {
     "name": "stderr",
     "output_type": "stream",
     "text": [
      " 93%|████████████████████████████████████████▏  | 70/75 [00:13<00:00,  5.46it/s]"
     ]
    },
    {
     "name": "stdout",
     "output_type": "stream",
     "text": [
      "Status Code:  200\n",
      "Status Code:  200\n"
     ]
    },
    {
     "name": "stderr",
     "output_type": "stream",
     "text": [
      " 96%|█████████████████████████████████████████▎ | 72/75 [00:13<00:00,  5.48it/s]"
     ]
    },
    {
     "name": "stdout",
     "output_type": "stream",
     "text": [
      "Status Code:  200\n",
      "Status Code:  200\n"
     ]
    },
    {
     "name": "stderr",
     "output_type": "stream",
     "text": [
      " 99%|██████████████████████████████████████████▍| 74/75 [00:14<00:00,  5.72it/s]"
     ]
    },
    {
     "name": "stdout",
     "output_type": "stream",
     "text": [
      "Status Code:  200\n",
      "Status Code:  200\n"
     ]
    },
    {
     "name": "stderr",
     "output_type": "stream",
     "text": [
      "100%|███████████████████████████████████████████| 75/75 [00:14<00:00,  5.20it/s]"
     ]
    },
    {
     "name": "stdout",
     "output_type": "stream",
     "text": [
      "Status Code:  200\n"
     ]
    },
    {
     "name": "stderr",
     "output_type": "stream",
     "text": [
      "\n"
     ]
    }
   ],
   "source": [
    "audio_features = feature_get(data)"
   ]
  },
  {
   "cell_type": "code",
   "execution_count": 17,
   "id": "b038d34b-a431-4d4b-a5dc-1c50117bd073",
   "metadata": {},
   "outputs": [
    {
     "data": {
      "text/html": [
       "<div>\n",
       "<style scoped>\n",
       "    .dataframe tbody tr th:only-of-type {\n",
       "        vertical-align: middle;\n",
       "    }\n",
       "\n",
       "    .dataframe tbody tr th {\n",
       "        vertical-align: top;\n",
       "    }\n",
       "\n",
       "    .dataframe thead th {\n",
       "        text-align: right;\n",
       "    }\n",
       "</style>\n",
       "<table border=\"1\" class=\"dataframe\">\n",
       "  <thead>\n",
       "    <tr style=\"text-align: right;\">\n",
       "      <th></th>\n",
       "      <th>Artist</th>\n",
       "      <th>Song</th>\n",
       "      <th>SongID</th>\n",
       "      <th>Popularity</th>\n",
       "      <th>Lyrics</th>\n",
       "      <th>href</th>\n",
       "      <th>acousticness</th>\n",
       "      <th>danceability</th>\n",
       "      <th>energy</th>\n",
       "      <th>instrumentalness</th>\n",
       "      <th>key</th>\n",
       "      <th>liveness</th>\n",
       "      <th>loudness</th>\n",
       "      <th>mode</th>\n",
       "      <th>speechiness</th>\n",
       "      <th>tempo</th>\n",
       "      <th>valence</th>\n",
       "    </tr>\n",
       "  </thead>\n",
       "  <tbody>\n",
       "    <tr>\n",
       "      <th>0</th>\n",
       "      <td>Miley Cyrus</td>\n",
       "      <td>Flowers</td>\n",
       "      <td>0yLdNVWF3Srea0uzk55zFn</td>\n",
       "      <td>87</td>\n",
       "      <td>NaN</td>\n",
       "      <td>https://api.spotify.com/v1/tracks/0yLdNVWF3Sre...</td>\n",
       "      <td>0.0632</td>\n",
       "      <td>0.707</td>\n",
       "      <td>0.681</td>\n",
       "      <td>0.000005</td>\n",
       "      <td>0</td>\n",
       "      <td>0.0322</td>\n",
       "      <td>-4.325</td>\n",
       "      <td>1</td>\n",
       "      <td>0.0668</td>\n",
       "      <td>117.999</td>\n",
       "      <td>0.646</td>\n",
       "    </tr>\n",
       "    <tr>\n",
       "      <th>1</th>\n",
       "      <td>Metro Boomin</td>\n",
       "      <td>Creepin' (with The Weeknd &amp; 21 Savage)</td>\n",
       "      <td>2dHHgzDwk4BJdRwy9uXhTO</td>\n",
       "      <td>97</td>\n",
       "      <td>NaN</td>\n",
       "      <td>https://api.spotify.com/v1/tracks/2dHHgzDwk4BJ...</td>\n",
       "      <td>0.417</td>\n",
       "      <td>0.715</td>\n",
       "      <td>0.62</td>\n",
       "      <td>0</td>\n",
       "      <td>1</td>\n",
       "      <td>0.0822</td>\n",
       "      <td>-6.005</td>\n",
       "      <td>0</td>\n",
       "      <td>0.0484</td>\n",
       "      <td>97.95</td>\n",
       "      <td>0.172</td>\n",
       "    </tr>\n",
       "    <tr>\n",
       "      <th>2</th>\n",
       "      <td>SZA</td>\n",
       "      <td>Kill Bill</td>\n",
       "      <td>1Qrg8KqiBpW07V7PNxwwwL</td>\n",
       "      <td>93</td>\n",
       "      <td>NaN</td>\n",
       "      <td>https://api.spotify.com/v1/tracks/1Qrg8KqiBpW0...</td>\n",
       "      <td>0.0521</td>\n",
       "      <td>0.644</td>\n",
       "      <td>0.735</td>\n",
       "      <td>0.144</td>\n",
       "      <td>8</td>\n",
       "      <td>0.161</td>\n",
       "      <td>-5.747</td>\n",
       "      <td>1</td>\n",
       "      <td>0.0391</td>\n",
       "      <td>88.98</td>\n",
       "      <td>0.418</td>\n",
       "    </tr>\n",
       "    <tr>\n",
       "      <th>3</th>\n",
       "      <td>Central Cee</td>\n",
       "      <td>LET GO</td>\n",
       "      <td>3zkyus0njMCL6phZmNNEeN</td>\n",
       "      <td>94</td>\n",
       "      <td>NaN</td>\n",
       "      <td>https://api.spotify.com/v1/tracks/3zkyus0njMCL...</td>\n",
       "      <td>0.859</td>\n",
       "      <td>0.735</td>\n",
       "      <td>0.449</td>\n",
       "      <td>0</td>\n",
       "      <td>2</td>\n",
       "      <td>0.213</td>\n",
       "      <td>-9.933</td>\n",
       "      <td>0</td>\n",
       "      <td>0.383</td>\n",
       "      <td>146.016</td>\n",
       "      <td>0.514</td>\n",
       "    </tr>\n",
       "    <tr>\n",
       "      <th>4</th>\n",
       "      <td>Tiësto</td>\n",
       "      <td>10:35</td>\n",
       "      <td>6BePGk3eCan4FqaW2X8Qy3</td>\n",
       "      <td>90</td>\n",
       "      <td>NaN</td>\n",
       "      <td>https://api.spotify.com/v1/tracks/6BePGk3eCan4...</td>\n",
       "      <td>0.0683</td>\n",
       "      <td>0.696</td>\n",
       "      <td>0.793</td>\n",
       "      <td>0.000004</td>\n",
       "      <td>8</td>\n",
       "      <td>0.18</td>\n",
       "      <td>-5.733</td>\n",
       "      <td>1</td>\n",
       "      <td>0.097</td>\n",
       "      <td>120.003</td>\n",
       "      <td>0.698</td>\n",
       "    </tr>\n",
       "  </tbody>\n",
       "</table>\n",
       "</div>"
      ],
      "text/plain": [
       "         Artist                                    Song  \\\n",
       "0   Miley Cyrus                                 Flowers   \n",
       "1  Metro Boomin  Creepin' (with The Weeknd & 21 Savage)   \n",
       "2           SZA                               Kill Bill   \n",
       "3   Central Cee                                  LET GO   \n",
       "4        Tiësto                                   10:35   \n",
       "\n",
       "                   SongID  Popularity  Lyrics  \\\n",
       "0  0yLdNVWF3Srea0uzk55zFn          87     NaN   \n",
       "1  2dHHgzDwk4BJdRwy9uXhTO          97     NaN   \n",
       "2  1Qrg8KqiBpW07V7PNxwwwL          93     NaN   \n",
       "3  3zkyus0njMCL6phZmNNEeN          94     NaN   \n",
       "4  6BePGk3eCan4FqaW2X8Qy3          90     NaN   \n",
       "\n",
       "                                                href acousticness  \\\n",
       "0  https://api.spotify.com/v1/tracks/0yLdNVWF3Sre...       0.0632   \n",
       "1  https://api.spotify.com/v1/tracks/2dHHgzDwk4BJ...        0.417   \n",
       "2  https://api.spotify.com/v1/tracks/1Qrg8KqiBpW0...       0.0521   \n",
       "3  https://api.spotify.com/v1/tracks/3zkyus0njMCL...        0.859   \n",
       "4  https://api.spotify.com/v1/tracks/6BePGk3eCan4...       0.0683   \n",
       "\n",
       "  danceability energy instrumentalness key liveness loudness mode speechiness  \\\n",
       "0        0.707  0.681         0.000005   0   0.0322   -4.325    1      0.0668   \n",
       "1        0.715   0.62                0   1   0.0822   -6.005    0      0.0484   \n",
       "2        0.644  0.735            0.144   8    0.161   -5.747    1      0.0391   \n",
       "3        0.735  0.449                0   2    0.213   -9.933    0       0.383   \n",
       "4        0.696  0.793         0.000004   8     0.18   -5.733    1       0.097   \n",
       "\n",
       "     tempo valence  \n",
       "0  117.999   0.646  \n",
       "1    97.95   0.172  \n",
       "2    88.98   0.418  \n",
       "3  146.016   0.514  \n",
       "4  120.003   0.698  "
      ]
     },
     "execution_count": 17,
     "metadata": {},
     "output_type": "execute_result"
    }
   ],
   "source": [
    "audio_features.head()"
   ]
  },
  {
   "cell_type": "code",
   "execution_count": 19,
   "id": "b7b57a52-0cb9-48af-96bd-b1aa9513706e",
   "metadata": {},
   "outputs": [],
   "source": [
    "audio_features.drop(['SongID', 'Lyrics', 'href'], axis=1, inplace=True)"
   ]
  },
  {
   "cell_type": "code",
   "execution_count": 20,
   "id": "7e3eb58f-7ac8-43aa-a8ba-d90e277d7ed0",
   "metadata": {},
   "outputs": [
    {
     "data": {
      "text/html": [
       "<div>\n",
       "<style scoped>\n",
       "    .dataframe tbody tr th:only-of-type {\n",
       "        vertical-align: middle;\n",
       "    }\n",
       "\n",
       "    .dataframe tbody tr th {\n",
       "        vertical-align: top;\n",
       "    }\n",
       "\n",
       "    .dataframe thead th {\n",
       "        text-align: right;\n",
       "    }\n",
       "</style>\n",
       "<table border=\"1\" class=\"dataframe\">\n",
       "  <thead>\n",
       "    <tr style=\"text-align: right;\">\n",
       "      <th></th>\n",
       "      <th>Artist</th>\n",
       "      <th>Song</th>\n",
       "      <th>Popularity</th>\n",
       "      <th>acousticness</th>\n",
       "      <th>danceability</th>\n",
       "      <th>energy</th>\n",
       "      <th>instrumentalness</th>\n",
       "      <th>key</th>\n",
       "      <th>liveness</th>\n",
       "      <th>loudness</th>\n",
       "      <th>mode</th>\n",
       "      <th>speechiness</th>\n",
       "      <th>tempo</th>\n",
       "      <th>valence</th>\n",
       "    </tr>\n",
       "  </thead>\n",
       "  <tbody>\n",
       "    <tr>\n",
       "      <th>0</th>\n",
       "      <td>Miley Cyrus</td>\n",
       "      <td>Flowers</td>\n",
       "      <td>87</td>\n",
       "      <td>0.0632</td>\n",
       "      <td>0.707</td>\n",
       "      <td>0.681</td>\n",
       "      <td>0.000005</td>\n",
       "      <td>0</td>\n",
       "      <td>0.0322</td>\n",
       "      <td>-4.325</td>\n",
       "      <td>1</td>\n",
       "      <td>0.0668</td>\n",
       "      <td>117.999</td>\n",
       "      <td>0.646</td>\n",
       "    </tr>\n",
       "    <tr>\n",
       "      <th>1</th>\n",
       "      <td>Metro Boomin</td>\n",
       "      <td>Creepin' (with The Weeknd &amp; 21 Savage)</td>\n",
       "      <td>97</td>\n",
       "      <td>0.417</td>\n",
       "      <td>0.715</td>\n",
       "      <td>0.62</td>\n",
       "      <td>0</td>\n",
       "      <td>1</td>\n",
       "      <td>0.0822</td>\n",
       "      <td>-6.005</td>\n",
       "      <td>0</td>\n",
       "      <td>0.0484</td>\n",
       "      <td>97.95</td>\n",
       "      <td>0.172</td>\n",
       "    </tr>\n",
       "    <tr>\n",
       "      <th>2</th>\n",
       "      <td>SZA</td>\n",
       "      <td>Kill Bill</td>\n",
       "      <td>93</td>\n",
       "      <td>0.0521</td>\n",
       "      <td>0.644</td>\n",
       "      <td>0.735</td>\n",
       "      <td>0.144</td>\n",
       "      <td>8</td>\n",
       "      <td>0.161</td>\n",
       "      <td>-5.747</td>\n",
       "      <td>1</td>\n",
       "      <td>0.0391</td>\n",
       "      <td>88.98</td>\n",
       "      <td>0.418</td>\n",
       "    </tr>\n",
       "    <tr>\n",
       "      <th>3</th>\n",
       "      <td>Central Cee</td>\n",
       "      <td>LET GO</td>\n",
       "      <td>94</td>\n",
       "      <td>0.859</td>\n",
       "      <td>0.735</td>\n",
       "      <td>0.449</td>\n",
       "      <td>0</td>\n",
       "      <td>2</td>\n",
       "      <td>0.213</td>\n",
       "      <td>-9.933</td>\n",
       "      <td>0</td>\n",
       "      <td>0.383</td>\n",
       "      <td>146.016</td>\n",
       "      <td>0.514</td>\n",
       "    </tr>\n",
       "    <tr>\n",
       "      <th>4</th>\n",
       "      <td>Tiësto</td>\n",
       "      <td>10:35</td>\n",
       "      <td>90</td>\n",
       "      <td>0.0683</td>\n",
       "      <td>0.696</td>\n",
       "      <td>0.793</td>\n",
       "      <td>0.000004</td>\n",
       "      <td>8</td>\n",
       "      <td>0.18</td>\n",
       "      <td>-5.733</td>\n",
       "      <td>1</td>\n",
       "      <td>0.097</td>\n",
       "      <td>120.003</td>\n",
       "      <td>0.698</td>\n",
       "    </tr>\n",
       "  </tbody>\n",
       "</table>\n",
       "</div>"
      ],
      "text/plain": [
       "         Artist                                    Song  Popularity  \\\n",
       "0   Miley Cyrus                                 Flowers          87   \n",
       "1  Metro Boomin  Creepin' (with The Weeknd & 21 Savage)          97   \n",
       "2           SZA                               Kill Bill          93   \n",
       "3   Central Cee                                  LET GO          94   \n",
       "4        Tiësto                                   10:35          90   \n",
       "\n",
       "  acousticness danceability energy instrumentalness key liveness loudness  \\\n",
       "0       0.0632        0.707  0.681         0.000005   0   0.0322   -4.325   \n",
       "1        0.417        0.715   0.62                0   1   0.0822   -6.005   \n",
       "2       0.0521        0.644  0.735            0.144   8    0.161   -5.747   \n",
       "3        0.859        0.735  0.449                0   2    0.213   -9.933   \n",
       "4       0.0683        0.696  0.793         0.000004   8     0.18   -5.733   \n",
       "\n",
       "  mode speechiness    tempo valence  \n",
       "0    1      0.0668  117.999   0.646  \n",
       "1    0      0.0484    97.95   0.172  \n",
       "2    1      0.0391    88.98   0.418  \n",
       "3    0       0.383  146.016   0.514  \n",
       "4    1       0.097  120.003   0.698  "
      ]
     },
     "execution_count": 20,
     "metadata": {},
     "output_type": "execute_result"
    }
   ],
   "source": [
    "audio_features.head()"
   ]
  },
  {
   "cell_type": "code",
   "execution_count": 21,
   "id": "23fd32c2-b53b-44a9-8350-8c907414028e",
   "metadata": {},
   "outputs": [],
   "source": [
    "audio_features.to_csv(\"data/audio_features.csv\", sep=',', index = False)"
   ]
  },
  {
   "cell_type": "code",
   "execution_count": null,
   "id": "4aee2431-19da-407d-80fe-8fa9ee0ebefb",
   "metadata": {},
   "outputs": [],
   "source": []
  }
 ],
 "metadata": {
  "kernelspec": {
   "display_name": "Python 3 (ipykernel)",
   "language": "python",
   "name": "python3"
  },
  "language_info": {
   "codemirror_mode": {
    "name": "ipython",
    "version": 3
   },
   "file_extension": ".py",
   "mimetype": "text/x-python",
   "name": "python",
   "nbconvert_exporter": "python",
   "pygments_lexer": "ipython3",
   "version": "3.8.13"
  }
 },
 "nbformat": 4,
 "nbformat_minor": 5
}
